{
 "cells": [
  {
   "cell_type": "markdown",
   "metadata": {},
   "source": [
    "## INITIALIZATION"
   ]
  },
  {
   "cell_type": "markdown",
   "metadata": {},
   "source": [
    "###  Libraries"
   ]
  },
  {
   "cell_type": "code",
   "execution_count": 1,
   "metadata": {},
   "outputs": [
    {
     "name": "stderr",
     "output_type": "stream",
     "text": [
      "C:\\Users\\hperrin\\AppData\\Local\\Continuum\\Anaconda3\\lib\\site-packages\\sklearn\\cross_validation.py:41: DeprecationWarning: This module was deprecated in version 0.18 in favor of the model_selection module into which all the refactored classes and functions are moved. Also note that the interface of the new CV iterators are different from that of this module. This module will be removed in 0.20.\n",
      "  \"This module will be removed in 0.20.\", DeprecationWarning)\n",
      "C:\\Users\\hperrin\\AppData\\Local\\Continuum\\Anaconda3\\lib\\site-packages\\sklearn\\grid_search.py:42: DeprecationWarning: This module was deprecated in version 0.18 in favor of the model_selection module into which all the refactored classes and functions are moved. This module will be removed in 0.20.\n",
      "  DeprecationWarning)\n"
     ]
    }
   ],
   "source": [
    "# General\n",
    "import pandas as pd\n",
    "import numpy as np\n",
    "import sys\n",
    "import os\n",
    "from datetime import datetime\n",
    "from dateutil.relativedelta import relativedelta\n",
    "\n",
    "# Preprocessing\n",
    "from sklearn.preprocessing import StandardScaler\n",
    "\n",
    "# Machine Learning\n",
    "from xgboost import XGBClassifier\n",
    "from sklearn.ensemble import RandomForestClassifier\n",
    "from sklearn.ensemble import ExtraTreesClassifier\n",
    "from sklearn.ensemble import GradientBoostingClassifier\n",
    "from sklearn.linear_model import SGDClassifier\n",
    "from sklearn.linear_model import LinearRegression\n",
    "\n",
    "# Metrics\n",
    "from sklearn.metrics import make_scorer\n",
    "from sklearn.metrics import log_loss\n",
    "from sklearn.model_selection import StratifiedKFold\n",
    "from sklearn.grid_search import GridSearchCV\n",
    "\n",
    "# # Perso\n",
    "sys.path.append('../Algo')\n",
    "from NeuralNetworks import *"
   ]
  },
  {
   "cell_type": "code",
   "execution_count": 2,
   "metadata": {
    "collapsed": true
   },
   "outputs": [],
   "source": [
    "def diff(t_a, t_b):\n",
    "    t_diff = relativedelta(t_a, t_b)\n",
    "    return '{h}h {m}m {s}s'.format(h=t_diff.hours, m=t_diff.minutes, s=t_diff.seconds)"
   ]
  },
  {
   "cell_type": "markdown",
   "metadata": {},
   "source": [
    "### Score"
   ]
  },
  {
   "cell_type": "code",
   "execution_count": 3,
   "metadata": {
    "collapsed": true
   },
   "outputs": [],
   "source": [
    "score = make_scorer(score_func = log_loss)"
   ]
  },
  {
   "cell_type": "markdown",
   "metadata": {},
   "source": [
    "## DATA"
   ]
  },
  {
   "cell_type": "markdown",
   "metadata": {},
   "source": [
    "### Import"
   ]
  },
  {
   "cell_type": "code",
   "execution_count": 4,
   "metadata": {
    "collapsed": true
   },
   "outputs": [],
   "source": [
    "Xtrain = pd.read_csv(\"../w79/numerai_datasets/numerai_training_data.csv\")\n",
    "Xtest = pd.read_csv(\"../w79/numerai_datasets/numerai_tournament_data.csv\")"
   ]
  },
  {
   "cell_type": "code",
   "execution_count": 5,
   "metadata": {
    "collapsed": true
   },
   "outputs": [],
   "source": [
    "Xtrain = pd.concat([Xtrain, Xtest[Xtest['data_type'] == 'validation']], axis = 0)"
   ]
  },
  {
   "cell_type": "code",
   "execution_count": 6,
   "metadata": {},
   "outputs": [
    {
     "data": {
      "text/plain": [
       "((609578, 54), (348831, 54))"
      ]
     },
     "execution_count": 6,
     "metadata": {},
     "output_type": "execute_result"
    }
   ],
   "source": [
    "Xtrain.shape, Xtest.shape"
   ]
  },
  {
   "cell_type": "code",
   "execution_count": 7,
   "metadata": {
    "collapsed": true
   },
   "outputs": [],
   "source": [
    "real_data = Xtest\n",
    "ids = Xtest['id']\n",
    "\n",
    "Xtest = Xtrain[Xtrain['data_type'] == 'validation']\n",
    "Xtrain = Xtrain[Xtrain['data_type'] != 'validation']"
   ]
  },
  {
   "cell_type": "code",
   "execution_count": 8,
   "metadata": {},
   "outputs": [
    {
     "data": {
      "text/plain": [
       "((535713, 50), (535713,), (73865, 50), (73865,), (348831, 50))"
      ]
     },
     "execution_count": 8,
     "metadata": {},
     "output_type": "execute_result"
    }
   ],
   "source": [
    "Ytrain = Xtrain['target']\n",
    "Ytest = Xtest['target']\n",
    "\n",
    "Xtrain.drop(['id', 'era', 'data_type', 'target'], inplace = True, axis = 1)\n",
    "Xtest.drop(['id', 'era', 'data_type', 'target'], inplace = True, axis = 1)\n",
    "real_data.drop(['id', 'era', 'data_type', 'target'], inplace = True, axis = 1)\n",
    "\n",
    "Xtrain.shape, Ytrain.shape, Xtest.shape, Ytest.shape, real_data.shape"
   ]
  },
  {
   "cell_type": "markdown",
   "metadata": {},
   "source": [
    "## MODELS"
   ]
  },
  {
   "cell_type": "markdown",
   "metadata": {},
   "source": [
    "### Extratrees"
   ]
  },
  {
   "cell_type": "code",
   "execution_count": 16,
   "metadata": {
    "collapsed": true
   },
   "outputs": [],
   "source": [
    "model_names = ['ExtraTrees']"
   ]
  },
  {
   "cell_type": "code",
   "execution_count": 17,
   "metadata": {
    "collapsed": true
   },
   "outputs": [],
   "source": [
    "models = [ExtraTreesClassifier(n_jobs = -1, \n",
    "                               criterion = 'entropy', \n",
    "                               n_estimators = 100, \n",
    "                               bootstrap = True)]"
   ]
  },
  {
   "cell_type": "code",
   "execution_count": 23,
   "metadata": {
    "collapsed": true
   },
   "outputs": [],
   "source": [
    "parameters_to_tune = [{'min_samples_split' : [10, 200, 500, 750, 1000, 2000],                   \n",
    "                       'min_samples_leaf' : [10, 200, 500, 750, 1000, 2000],\n",
    "                       'max_depth' : [2,3,4],\n",
    "                       'max_features' : [10, 25, 40, 50]}]"
   ]
  },
  {
   "cell_type": "markdown",
   "metadata": {
    "collapsed": true
   },
   "source": [
    "#### Tuning parameters and getting predictions"
   ]
  },
  {
   "cell_type": "code",
   "execution_count": 24,
   "metadata": {
    "collapsed": true
   },
   "outputs": [],
   "source": [
    "bagging_steps = 1\n",
    "n_feature = 50\n",
    "\n",
    "features = [name for name in Xtrain.columns]"
   ]
  },
  {
   "cell_type": "code",
   "execution_count": 25,
   "metadata": {
    "collapsed": true
   },
   "outputs": [],
   "source": [
    "first_stage_train = pd.DataFrame()\n",
    "first_stage_test = pd.DataFrame()\n",
    "first_stage_final = pd.DataFrame()"
   ]
  },
  {
   "cell_type": "code",
   "execution_count": null,
   "metadata": {
    "scrolled": false
   },
   "outputs": [
    {
     "name": "stdout",
     "output_type": "stream",
     "text": [
      "\n",
      "---------------------------------------------\n",
      ">> Processing ExtraTrees\n",
      "\n",
      "Step 1..."
     ]
    }
   ],
   "source": [
    "for name,model,parameters in zip(model_names, models, parameters_to_tune):\n",
    "    \n",
    "    time1 = datetime.now()\n",
    "    print('\\n---------------------------------------------')\n",
    "    print('>> Processing {}\\n'.format(name))\n",
    "    \n",
    "    for step in range(bagging_steps):\n",
    "        \n",
    "        time2 = datetime.now()\n",
    "        print(\"Step {}\".format(step+1), end = '...')\n",
    "        \n",
    "        # Creating data\n",
    "        np.random.shuffle(features)\n",
    "        train = Xtrain[features[:n_feature]]\n",
    "        test = Xtest[features[:n_feature]]\n",
    "        final = real_data[features[:n_feature]]\n",
    "        \n",
    "        # Tuning\n",
    "        gscv = GridSearchCV(model, parameters, scoring = score, n_jobs = -1)\n",
    "        gscv.fit(train, Ytrain)\n",
    "\n",
    "        # Saving best predictions\n",
    "        first_stage_train['{}_prediction_{}'.format(name, step+1)] = gscv.predict_proba(train)[:,1]\n",
    "        first_stage_test['{}_prediction_{}'.format(name, step+1)] = gscv.predict_proba(test)[:,1]\n",
    "        first_stage_final['{}_prediction_{}'.format(name, step+1)] = gscv.predict_proba(final)[:,1]\n",
    "\n",
    "        print('done in {}'.format(diff(datetime.now(),time2)))\n",
    "        print('log loss : {}\\n'.format(log_loss(Ytest, first_stage_test['{}_prediction_{}'.format(name,step+1)])))"
   ]
  },
  {
   "cell_type": "markdown",
   "metadata": {},
   "source": [
    "### XGBoost"
   ]
  },
  {
   "cell_type": "code",
   "execution_count": null,
   "metadata": {
    "collapsed": true
   },
   "outputs": [],
   "source": []
  },
  {
   "cell_type": "markdown",
   "metadata": {},
   "source": [
    "### Neural Networks"
   ]
  },
  {
   "cell_type": "code",
   "execution_count": 12,
   "metadata": {},
   "outputs": [
    {
     "name": "stdout",
     "output_type": "stream",
     "text": [
      "Training set : (535713, 30) (535713, 2)\n",
      "Final set : (348831, 30)\n",
      "Test set : (73865, 30) (73865, 2)\n"
     ]
    }
   ],
   "source": [
    "def reformat(labels, num_labels):\n",
    "    labels = (np.arange(num_labels) == labels[:,None]).astype(np.float32)\n",
    "    return labels\n",
    "\n",
    "first_stage_train = first_stage_train.as_matrix().astype(np.float32)\n",
    "Ytrain = reformat(Ytrain, 2)\n",
    "\n",
    "first_stage_test = first_stage_test.as_matrix().astype(np.float32)\n",
    "Ytest = reformat(Ytest, 2)\n",
    "\n",
    "first_stage_final = first_stage_final.as_matrix().astype(np.float32)\n",
    "\n",
    "print('Training set :', first_stage_train.shape, Ytrain.shape)\n",
    "print('Final set :', first_stage_final.shape)\n",
    "print('Test set :', first_stage_test.shape, Ytest.shape)"
   ]
  },
  {
   "cell_type": "code",
   "execution_count": 13,
   "metadata": {
    "collapsed": true
   },
   "outputs": [],
   "source": [
    "# Define the scaler\n",
    "scaler = StandardScaler().fit(first_stage_train)\n",
    "\n",
    "# Scale the train set\n",
    "first_stage_train = scaler.transform(first_stage_train)\n",
    "\n",
    "# Scale the test set\n",
    "first_stage_test = scaler.transform(first_stage_test)\n",
    "\n",
    "# Scale the final data\n",
    "first_stage_final = scaler.transform(first_stage_final)"
   ]
  },
  {
   "cell_type": "code",
   "execution_count": 14,
   "metadata": {
    "collapsed": true
   },
   "outputs": [],
   "source": [
    "# DEFINITION\n",
    "model = NeuralNetworkClassifier(layers = [20],\n",
    "                                num_steps = 150000,\n",
    "                                display_step = 5000,\n",
    "                                learning_rate = 0.001,\n",
    "                                L2Regression = 0.05,\n",
    "                                dropout = 0.2,\n",
    "                                learning_rate_decay = 0.9,\n",
    "                                batch_size = 500,\n",
    "                                verbose = None)\n",
    "\n",
    "model.fit(first_stage_train, Ytrain, first_stage_test, Ytest, validation=0.2)"
   ]
  }
 ],
 "metadata": {
  "kernelspec": {
   "display_name": "Python 3",
   "language": "python",
   "name": "python3"
  },
  "language_info": {
   "codemirror_mode": {
    "name": "ipython",
    "version": 3
   },
   "file_extension": ".py",
   "mimetype": "text/x-python",
   "name": "python",
   "nbconvert_exporter": "python",
   "pygments_lexer": "ipython3",
   "version": "3.6.3"
  },
  "toc": {
   "colors": {
    "hover_highlight": "#DAA520",
    "navigate_num": "#000000",
    "navigate_text": "#333333",
    "running_highlight": "#FF0000",
    "selected_highlight": "#FFD700",
    "sidebar_border": "#EEEEEE",
    "wrapper_background": "#FFFFFF"
   },
   "moveMenuLeft": true,
   "nav_menu": {
    "height": "104px",
    "width": "252px"
   },
   "navigate_menu": true,
   "number_sections": true,
   "sideBar": true,
   "threshold": 4,
   "toc_cell": false,
   "toc_section_display": "block",
   "toc_window_display": true,
   "widenNotebook": false
  }
 },
 "nbformat": 4,
 "nbformat_minor": 2
}
