{
 "cells": [
  {
   "cell_type": "code",
   "execution_count": 1,
   "metadata": {
    "scrolled": false
   },
   "outputs": [],
   "source": [
    "\"\"\"\n",
    "Running algorithm to search best fitting model\n",
    "\"\"\"\n",
    "\n",
    "#=========================================================================================================\n",
    "#================================ 0. MODULE\n",
    "\n",
    "# Numerai class\n",
    "from numerai import Numerai\n",
    "\n",
    "# Machine Learning models\n",
    "from xgboost import XGBClassifier\n",
    "from sklearn.ensemble import RandomForestClassifier\n",
    "from sklearn.ensemble import ExtraTreesClassifier\n",
    "from sklearn.ensemble import GradientBoostingClassifier\n",
    "from sklearn.linear_model import SGDClassifier\n",
    "from sklearn.linear_model import LinearRegression\n",
    "from lightgbm import LGBMClassifier\n",
    "from sklearn.ensemble import AdaBoostClassifier\n",
    "from sklearn.neighbors import KNeighborsClassifier"
   ]
  },
  {
   "cell_type": "code",
   "execution_count": 2,
   "metadata": {},
   "outputs": [],
   "source": [
    "#=========================================================================================================\n",
    "#================================ 1. CLASS\n",
    "\n",
    "\n",
    "stacking = Numerai(week=109, stageNumber=1)\n",
    "\n",
    "\n"
   ]
  },
  {
   "cell_type": "code",
   "execution_count": null,
   "metadata": {},
   "outputs": [],
   "source": [
    "#=========================================================================================================\n",
    "#================================ 2. FEATURE ENGINEERING\n",
    "\n",
    "\n",
    "# metafeature = ['variance', 'mean', 'distance']\n",
    "# stages = [2, 0, 2]\n",
    "# stacking.add_metafeature(metafeature, stages)\n",
    "\n",
    "\n"
   ]
  },
  {
   "cell_type": "code",
   "execution_count": null,
   "metadata": {},
   "outputs": [],
   "source": [
    "#=========================================================================================================\n",
    "#================================ 3. MODEL ARCHITECTURE\n",
    "\n",
    "\n",
    "nCores = -1\n",
    "\n",
    "\n",
    "models = [ExtraTreesClassifier(n_jobs = nCores, \n",
    "                               criterion = 'entropy',\n",
    "                               max_depth = 4,\n",
    "                               n_estimators = 100,\n",
    "                               bootstrap = True),\n",
    "          \n",
    "          ExtraTreesClassifier(n_jobs = nCores, \n",
    "                               criterion = 'gini',\n",
    "                               max_depth = 4,\n",
    "                               n_estimators = 100,\n",
    "                               bootstrap = True),\n",
    "          \n",
    "          XGBClassifier(learning_rate = 0.5, \n",
    "                        max_depth = 3, \n",
    "                        n_estimators = 75,\n",
    "                        nthread = nCores),\n",
    "          \n",
    "          SGDClassifier(loss = 'log', \n",
    "                        penalty = 'elasticnet', \n",
    "                        learning_rate = 'optimal',\n",
    "                        max_iter = 5,\n",
    "                        tol = None,\n",
    "                        n_jobs = nCores),\n",
    "         \n",
    "          LGBMClassifier(objective = 'binary',\n",
    "                         max_depth = 4,\n",
    "                         n_estimators = 50,\n",
    "                         reg_lambda = 0.001,\n",
    "                         n_jobs = nCores)]\n",
    "\n",
    "parameters = [{'min_samples_split' : [200, 1000],                               # ExtraTreesClassifier entropy\n",
    "               'min_samples_leaf' : [200, 1000]},\n",
    "\n",
    "              {'min_samples_split' : [200, 1000],                               # ExtraTreesClassifier gini\n",
    "               'min_samples_leaf' : [200, 1000]},\n",
    "\n",
    "              {'subsample' : [0.5, 0.75, 1]},                                   # XGBoostClassifier\n",
    "\n",
    "              {'alpha' : [0.001, 0.01, 0.05, 0.1, 0.3, 0.5, 0.7, 1],            # SGDClassifier\n",
    "               'l1_ratio' : [0.001, 0.01, 0.05, 0.1, 0.3, 0.5, 0.7, 1]},\n",
    "\n",
    "              {'num_leaves ' : [25, 100],                                       # Lightgbm\n",
    "               'min_samples_leaf' : [200, 1000]}]\n",
    "\n",
    "modelNames = ['ExtraTrees1',\n",
    "              'ExtraTrees2',\n",
    "              'XGBoost', \n",
    "              'SGDC',\n",
    "              'Lightgbm']\n",
    "\n",
    "nFeatures = [20, 20, 40, 40, 35]\n",
    "\n",
    "baggingSteps = [10, 10, 3, 3, 1]\n",
    "\n",
    "stages = [1, 1, 0, 0, 2]\n",
    "\n",
    "\n",
    "for name, model, parameters, baggingSteps, nFeatures, stage in zip(modelNames, models, parameters, baggingSteps, nFeatures, stages):\n",
    "    \n",
    "    stacking.add_model(name, model, parameters, baggingSteps, nFeatures, stage)\n",
    "    "
   ]
  },
  {
   "cell_type": "code",
   "execution_count": null,
   "metadata": {},
   "outputs": [],
   "source": [
    "#=========================================================================================================\n",
    "#================================ 4. TRAINING MODEL\n",
    "\n",
    "\n",
    "stacking.fit_tune(nCores, evaluate=True)\n",
    "\n",
    "\n"
   ]
  },
  {
   "cell_type": "code",
   "execution_count": null,
   "metadata": {},
   "outputs": [],
   "source": [
    "#=========================================================================================================\n",
    "#================================ 5. PREDICTION\n",
    "\n",
    "\n",
    "# stacking.fit_tune(nCores, evaluate=False)\n",
    "# stacking.submit(submissionNumber=2, week=109)\n",
    "\n",
    "\n"
   ]
  },
  {
   "cell_type": "code",
   "execution_count": null,
   "metadata": {},
   "outputs": [],
   "source": []
  }
 ],
 "metadata": {
  "kernelspec": {
   "display_name": "Python 3",
   "language": "python",
   "name": "python3"
  },
  "language_info": {
   "codemirror_mode": {
    "name": "ipython",
    "version": 3
   },
   "file_extension": ".py",
   "mimetype": "text/x-python",
   "name": "python",
   "nbconvert_exporter": "python",
   "pygments_lexer": "ipython3",
   "version": "3.6.3"
  }
 },
 "nbformat": 4,
 "nbformat_minor": 2
}
