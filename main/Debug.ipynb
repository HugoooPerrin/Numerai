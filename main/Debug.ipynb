{
 "cells": [
  {
   "cell_type": "code",
   "execution_count": null,
   "metadata": {
    "scrolled": false
   },
   "outputs": [],
   "source": [
    "#=========================================================================================================\n",
    "#================================ 0. MODULE\n",
    "\n",
    "\n",
    "# Class\n",
    "from numerai import Numerai\n",
    "\n",
    "# Architecture\n",
    "from architecture import models\n",
    "\n",
    "try:\n",
    "    import torch\n",
    "    import torch.nn as nn\n",
    "except:\n",
    "    pass\n",
    "\n",
    "#=========================================================================================================\n",
    "#================================ 1. CLASS\n",
    "\n",
    "\n",
    "stacking = Numerai(week=110)\n",
    "nCores = -1\n",
    "\n",
    "#=========================================================================================================\n",
    "#================================ 2. FEATURE ENGINEERING\n",
    "\n",
    "\n",
    "# metafeature = ['variance', 'mean', 'distance']\n",
    "# stages = [2, 0, 2]\n",
    "# stacking.add_metafeature(metafeature, stages)\n",
    "\n",
    "\n",
    "#=========================================================================================================\n",
    "#================================ 3. TRAINING MODEL\n",
    "\n",
    "\n",
    "stacking.add_model(models)\n",
    "stacking.training(nCores, stageNumber=1, neuralNetworkCompiler=False, evaluate=True)"
   ]
  },
  {
   "cell_type": "code",
   "execution_count": null,
   "metadata": {
    "scrolled": false
   },
   "outputs": [],
   "source": [
    "# Always compile with sklearn model before neural nets\n",
    "stacking.compile(nCores, neuralNetworkCompiler=False)"
   ]
  },
  {
   "cell_type": "code",
   "execution_count": null,
   "metadata": {
    "scrolled": false
   },
   "outputs": [],
   "source": [
    "class NN(nn.Module):\n",
    "\n",
    "    def __init__(self):\n",
    "        super(NN, self).__init__()\n",
    "\n",
    "        self.linear = nn.Sequential(\n",
    "            nn.Linear(22, 100),\n",
    "            nn.ReLU(),\n",
    "            nn.Dropout(0.8),\n",
    "            nn.Linear(100, 1))\n",
    "\n",
    "    def forward(self, x):\n",
    "        out = self.linear(x)\n",
    "        return out\n",
    "\n",
    "\n",
    "stacking.compile(nCores, neuralNetworkCompiler=True, architectureNN=NN(), \n",
    "                 learningRate=0.00001, batch=32, epoch=5, cvNumber=1, \n",
    "                 displayStep=2000, evaluate=True, useGPU=True)"
   ]
  },
  {
   "cell_type": "code",
   "execution_count": null,
   "metadata": {
    "collapsed": true
   },
   "outputs": [],
   "source": []
  }
 ],
 "metadata": {
  "kernelspec": {
   "display_name": "Python 3",
   "language": "python",
   "name": "python3"
  },
  "language_info": {
   "codemirror_mode": {
    "name": "ipython",
    "version": 3
   },
   "file_extension": ".py",
   "mimetype": "text/x-python",
   "name": "python",
   "nbconvert_exporter": "python",
   "pygments_lexer": "ipython3",
   "version": "3.6.3"
  }
 },
 "nbformat": 4,
 "nbformat_minor": 2
}
