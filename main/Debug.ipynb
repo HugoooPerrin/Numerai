{
 "cells": [
  {
   "cell_type": "markdown",
   "metadata": {},
   "source": [
    "# I. MODULE"
   ]
  },
  {
   "cell_type": "code",
   "execution_count": 1,
   "metadata": {
    "collapsed": true
   },
   "outputs": [],
   "source": [
    "# Class\n",
    "from numerai import Numerai\n",
    "\n",
    "# Architecture\n",
    "from architecture import models\n",
    "\n",
    "try:\n",
    "    import torch\n",
    "    import torch.nn as nn\n",
    "except:\n",
    "    pass"
   ]
  },
  {
   "cell_type": "markdown",
   "metadata": {},
   "source": [
    "# II. CLASS"
   ]
  },
  {
   "cell_type": "code",
   "execution_count": 2,
   "metadata": {},
   "outputs": [
    {
     "name": "stdout",
     "output_type": "stream",
     "text": [
      "\n",
      "---------------------------------------------\n",
      ">> Loading data...done\n",
      "\n",
      "Xtrain1: (157445, 50) \n",
      "Ytrain1: (157445,) \n",
      "Xtrain2: (158232, 50) \n",
      "Ytrain2: (158232,) \n",
      "Xtest: (77936, 50) \n",
      "Ytest: (77936,) \n",
      "Xvalid: (46362, 50) \n",
      "Yvalid: (46362,) \n",
      "Submit data: (243352, 50)\n",
      "\n"
     ]
    }
   ],
   "source": [
    "stacking = Numerai(week=111, name='bernie')\n",
    "\n",
    "# Loading data:\n",
    "stacking.load_data(stageNumber=1, evaluate=True)"
   ]
  },
  {
   "cell_type": "markdown",
   "metadata": {},
   "source": [
    "# III. FEATURE ENGINEERING"
   ]
  },
  {
   "cell_type": "code",
   "execution_count": 3,
   "metadata": {},
   "outputs": [
    {
     "name": "stdout",
     "output_type": "stream",
     "text": [
      "\n",
      "---------------------------------------------\n",
      ">> Processing Kmeans ------\n",
      "\n",
      "Fitting model...done\n",
      "Generating kmeans features...done\n"
     ]
    }
   ],
   "source": [
    "stacking.kmeansTrick(k=5, stage=1, interaction=False)"
   ]
  },
  {
   "cell_type": "markdown",
   "metadata": {},
   "source": [
    "# IV. TRAINING MODEL"
   ]
  },
  {
   "cell_type": "markdown",
   "metadata": {},
   "source": [
    "#### Deep learning"
   ]
  },
  {
   "cell_type": "code",
   "execution_count": null,
   "metadata": {
    "collapsed": true
   },
   "outputs": [],
   "source": [
    "class NN(nn.Module):\n",
    "\n",
    "    def __init__(self):\n",
    "        super(NN, self).__init__()\n",
    "\n",
    "        self.linear = nn.Sequential(\n",
    "            nn.Linear(50, 25),\n",
    "            nn.ReLU(),\n",
    "            nn.Dropout(0.5),\n",
    "            nn.Linear(25, 1))\n",
    "\n",
    "    def forward(self, x):\n",
    "        out = self.linear(x)\n",
    "        return out\n",
    "    \n",
    "stacking.trainingNN(architecture=NN(), learningRate=0.00003, batch=64, epoch=6, \n",
    "                       cvNumber=3, displayStep=1000, useGPU=True, evaluate=False)"
   ]
  },
  {
   "cell_type": "markdown",
   "metadata": {},
   "source": [
    "#### Machine learning"
   ]
  },
  {
   "cell_type": "code",
   "execution_count": 4,
   "metadata": {},
   "outputs": [
    {
     "name": "stdout",
     "output_type": "stream",
     "text": [
      "\n",
      "---------------------------------------------\n",
      ">> Processing first stage\n",
      "\n",
      ">> Processing ExtraTrees1 ------\n",
      "\n",
      "Step 1...done in 0h 0m 52s\n",
      "log loss : 0.69300\n",
      "\n",
      "Step 2...done in 0h 0m 49s\n",
      "log loss : 0.69300\n",
      "\n",
      "Step 3...done in 0h 0m 49s\n",
      "log loss : 0.69305\n",
      "\n",
      "Step 4...done in 0h 0m 48s\n",
      "log loss : 0.69294\n",
      "\n",
      "Step 5...done in 0h 0m 48s\n",
      "log loss : 0.69313\n",
      "\n",
      "\n",
      ">> Processing ExtraTrees2 ------\n",
      "\n",
      "Step 1...done in 0h 0m 48s\n",
      "log loss : 0.69308\n",
      "\n",
      "Step 2...done in 0h 0m 47s\n",
      "log loss : 0.69309\n",
      "\n",
      "Step 3...done in 0h 0m 46s\n",
      "log loss : 0.69299\n",
      "\n",
      "Step 4...done in 0h 0m 46s\n",
      "log loss : 0.69301\n",
      "\n",
      "Step 5...done in 0h 0m 46s\n",
      "log loss : 0.69307\n",
      "\n",
      "\n",
      ">> Processing LightGBM1 ------\n",
      "\n",
      "Step 1...done in 0h 3m 13s\n",
      "log loss : 0.69279\n",
      "\n",
      "Step 2...done in 0h 3m 7s\n",
      "log loss : 0.69275\n",
      "\n",
      "Step 3...done in 0h 3m 1s\n",
      "log loss : 0.69273\n",
      "\n",
      "Step 4...done in 0h 2m 54s\n",
      "log loss : 0.69275\n",
      "\n",
      "Step 5...done in 0h 1m 57s\n",
      "log loss : 0.69275\n",
      "\n",
      "\n",
      "First stage running time 0h 22m 19s\n"
     ]
    }
   ],
   "source": [
    "nCores = -1\n",
    "\n",
    "stacking.training(nCores, models)"
   ]
  },
  {
   "cell_type": "markdown",
   "metadata": {},
   "source": [
    "# V. COMPILER MODEL"
   ]
  },
  {
   "cell_type": "markdown",
   "metadata": {},
   "source": [
    "#### Machine learning"
   ]
  },
  {
   "cell_type": "code",
   "execution_count": 11,
   "metadata": {
    "scrolled": false
   },
   "outputs": [
    {
     "name": "stdout",
     "output_type": "stream",
     "text": [
      "\n",
      "---------------------------------------------\n",
      ">> Processing compilation [LightGBM3]\n",
      "\n",
      "\n",
      "Compilation running time 0h 4m 44s\n",
      "\n",
      "Final test log loss : 0.69281\n",
      "Final valid log loss : 0.69275\n",
      "\n"
     ]
    }
   ],
   "source": [
    "stacking.compile(nCores, neuralNetworkCompiler=False)"
   ]
  },
  {
   "cell_type": "markdown",
   "metadata": {},
   "source": [
    "#### Deep learning"
   ]
  },
  {
   "cell_type": "code",
   "execution_count": null,
   "metadata": {
    "collapsed": true,
    "scrolled": false
   },
   "outputs": [],
   "source": [
    "class NN(nn.Module):\n",
    "\n",
    "    def __init__(self):\n",
    "        super(NN, self).__init__()\n",
    "\n",
    "        self.linear = nn.Sequential(\n",
    "            nn.Linear(3, 3),\n",
    "            nn.ReLU(),\n",
    "            nn.Dropout(0.3),\n",
    "            nn.Linear(3, 1))\n",
    "\n",
    "    def forward(self, x):\n",
    "        out = self.linear(x)\n",
    "        return out\n",
    "\n",
    "\n",
    "stacking.compile(nCores, neuralNetworkCompiler=True, architectureNN=NN(), \n",
    "                 learningRate=0.000001, batch=32, epoch=5, cvNumber=1, \n",
    "                 displayStep=2000, useGPU=True)"
   ]
  },
  {
   "cell_type": "markdown",
   "metadata": {},
   "source": [
    "# VI. SUBMISSION"
   ]
  },
  {
   "cell_type": "code",
   "execution_count": null,
   "metadata": {
    "collapsed": true
   },
   "outputs": [],
   "source": [
    "stacking.submit(submissionNumber=1, week=111)"
   ]
  },
  {
   "cell_type": "code",
   "execution_count": null,
   "metadata": {
    "collapsed": true
   },
   "outputs": [],
   "source": []
  }
 ],
 "metadata": {
  "kernelspec": {
   "display_name": "Python 3",
   "language": "python",
   "name": "python3"
  },
  "language_info": {
   "codemirror_mode": {
    "name": "ipython",
    "version": 3
   },
   "file_extension": ".py",
   "mimetype": "text/x-python",
   "name": "python",
   "nbconvert_exporter": "python",
   "pygments_lexer": "ipython3",
   "version": "3.6.3"
  }
 },
 "nbformat": 4,
 "nbformat_minor": 2
}
