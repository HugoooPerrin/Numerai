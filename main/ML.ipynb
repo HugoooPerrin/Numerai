{
 "cells": [
  {
   "cell_type": "markdown",
   "metadata": {},
   "source": [
    "# Modules"
   ]
  },
  {
   "cell_type": "code",
   "execution_count": 1,
   "metadata": {},
   "outputs": [],
   "source": [
    "# Numerai class\n",
    "from numerai import Numerai\n",
    "\n",
    "# Machine Learning models\n",
    "# from xgboost import XGBClassifier\n",
    "from sklearn.ensemble import RandomForestClassifier\n",
    "from sklearn.ensemble import ExtraTreesClassifier\n",
    "from sklearn.ensemble import GradientBoostingClassifier\n",
    "from sklearn.linear_model import SGDClassifier\n",
    "from sklearn.linear_model import LinearRegression\n",
    "from lightgbm import LGBMClassifier\n",
    "from sklearn.ensemble import AdaBoostClassifier\n",
    "from sklearn.neighbors import KNeighborsClassifier"
   ]
  },
  {
   "cell_type": "code",
   "execution_count": 2,
   "metadata": {},
   "outputs": [],
   "source": [
    "stacking = Numerai(stageNumber=1)"
   ]
  },
  {
   "cell_type": "markdown",
   "metadata": {},
   "source": [
    "# Data"
   ]
  },
  {
   "cell_type": "code",
   "execution_count": null,
   "metadata": {},
   "outputs": [],
   "source": [
    "%%time\n",
    "stacking.load_data(109)"
   ]
  },
  {
   "cell_type": "markdown",
   "metadata": {},
   "source": [
    "# Feature engineering"
   ]
  },
  {
   "cell_type": "code",
   "execution_count": null,
   "metadata": {},
   "outputs": [],
   "source": [
    "%%time\n",
    "\n",
    "metafeature = ['variance', 'mean', 'distance']\n",
    "stages = [2, 1, 2]\n",
    "stacking.add_metafeature(metafeature, stages)"
   ]
  },
  {
   "cell_type": "markdown",
   "metadata": {},
   "source": [
    "# Model"
   ]
  },
  {
   "cell_type": "code",
   "execution_count": 3,
   "metadata": {},
   "outputs": [],
   "source": [
    "nCores = -1"
   ]
  },
  {
   "cell_type": "code",
   "execution_count": 4,
   "metadata": {},
   "outputs": [],
   "source": [
    "modelNames = ['ExtraTrees1',\n",
    "              'ExtraTrees2',\n",
    "              'XGBoost', \n",
    "              'SGDC',\n",
    "              'Lightgbm']\n",
    "\n",
    "models = [ExtraTreesClassifier(n_jobs = nCores, \n",
    "                               criterion = 'entropy', \n",
    "                               bootstrap = True),\n",
    "          \n",
    "          ExtraTreesClassifier(n_jobs = nCores, \n",
    "                               criterion = 'gini', \n",
    "                               bootstrap = True),\n",
    "          \n",
    "#           XGBClassifier(learning_rate = 0.5, \n",
    "#                         max_depth = 3, \n",
    "#                         n_estimators = 75,\n",
    "#                         nthread = nCores),\n",
    "          \n",
    "          SGDClassifier(loss = 'log', \n",
    "                        penalty = 'elasticnet', \n",
    "                        learning_rate = 'optimal',\n",
    "                        n_jobs = nCores),\n",
    "         \n",
    "          LGBMClassifier(objective = 'binary',\n",
    "                         n_jobs = nCores)]\n",
    "\n",
    "parameters = [{'min_samples_split' : [200, 1000],                               # ExtraTreesClassifier entropy\n",
    "               'min_samples_leaf' : [200, 1000],\n",
    "               'max_depth' : [3, 4],\n",
    "               'n_estimators': [50, 100, 200]},\n",
    "\n",
    "              {'min_samples_split' : [200, 1000],                               # ExtraTreesClassifier gini\n",
    "               'min_samples_leaf' : [200, 1000],\n",
    "               'max_depth' : [3, 4],\n",
    "               'n_estimators': [50, 100, 200]},\n",
    "\n",
    "#               {'subsample' : [0.5, 0.75, 1]},                                   # XGBoostClassifier\n",
    "\n",
    "              {'alpha' : [0.001, 0.01, 0.05, 0.1, 0.3, 0.5, 0.7, 1],            # SGDClassifier\n",
    "               'l1_ratio' : [0.001, 0.01, 0.05, 0.1, 0.3, 0.5, 0.7, 1]},\n",
    "\n",
    "              {'n_estimators': [50, 100, 200],                                  # Lightgbm\n",
    "               'max_depth' : [3, 4],\n",
    "               'num_leaves ' : [15, 40, 100, 500],\n",
    "               'min_samples_leaf' : [200, 1000],\n",
    "               'reg_lambda' : [0.001, 0.01, 0.05, 0.1, 0.3, 0.5, 0.7, 1]}]\n",
    "\n",
    "nFeatures = [15, 15, 35, None]\n",
    "\n",
    "baggingSteps = [10, 10, 5, 1]\n",
    "\n",
    "stages = [1, 1, 1, 2]"
   ]
  },
  {
   "cell_type": "code",
   "execution_count": 5,
   "metadata": {},
   "outputs": [],
   "source": [
    "for name, model, parameters, baggingSteps, nFeatures, stage in zip(modelNames, models, parameters, baggingSteps, nFeatures, stages):\n",
    "    stacking.add_model(name, model, parameters, baggingSteps, nFeatures, stage)"
   ]
  },
  {
   "cell_type": "markdown",
   "metadata": {},
   "source": [
    "# Training"
   ]
  },
  {
   "cell_type": "code",
   "execution_count": null,
   "metadata": {},
   "outputs": [],
   "source": [
    "stacking.fit_tune(nCores)"
   ]
  },
  {
   "cell_type": "markdown",
   "metadata": {},
   "source": [
    "# Prediction"
   ]
  },
  {
   "cell_type": "code",
   "execution_count": null,
   "metadata": {},
   "outputs": [],
   "source": [
    "# stacking.submit(submissionNumber=1, week=109)"
   ]
  }
 ],
 "metadata": {
  "kernelspec": {
   "display_name": "Python 3",
   "language": "python",
   "name": "python3"
  },
  "language_info": {
   "codemirror_mode": {
    "name": "ipython",
    "version": 3
   },
   "file_extension": ".py",
   "mimetype": "text/x-python",
   "name": "python",
   "nbconvert_exporter": "python",
   "pygments_lexer": "ipython3",
   "version": "3.6.4"
  }
 },
 "nbformat": 4,
 "nbformat_minor": 2
}
