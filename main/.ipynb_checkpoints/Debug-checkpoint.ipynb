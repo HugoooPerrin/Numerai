{
 "cells": [
  {
   "cell_type": "code",
   "execution_count": null,
   "metadata": {},
   "outputs": [],
   "source": [
    "\n",
    "\n",
    "\n",
    "\n",
    "\"\"\"\n",
    "Running algorithm to search best fitting model\n",
    "\n",
    "\n",
    "Next steps:\n",
    "    - Try meta features\n",
    "    - Consistency check\n",
    "    - Feature interaction / polynomial\n",
    "    - Using era ?\n",
    "    - hardcore EDA\n",
    "\"\"\"\n",
    "\n",
    "\n",
    "\n",
    "#=========================================================================================================\n",
    "#================================ 0. MODULE\n",
    "\n",
    "\n",
    "# Class\n",
    "from numerai import Numerai\n",
    "\n",
    "# Architecture\n",
    "from architecture import models\n",
    "\n",
    "\n",
    "#=========================================================================================================\n",
    "#================================ 1. CLASS\n",
    "\n",
    "\n",
    "stacking = Numerai(week=109)\n",
    "\n",
    "\n",
    "#=========================================================================================================\n",
    "#================================ 2. FEATURE ENGINEERING\n",
    "\n",
    "\n",
    "# metafeature = ['variance', 'mean', 'distance']\n",
    "# stages = [2, 0, 2]\n",
    "# stacking.add_metafeature(metafeature, stages)\n",
    "\n",
    "\n",
    "#=========================================================================================================\n",
    "#================================ 3. TRAINING MODEL\n",
    "\n",
    "\n",
    "###### MACHINE LEARNING\n",
    "stacking.add_model(models)\n",
    "stacking.fit_tune(nCores, neuralNetworkCompiler=False, evaluate=True, interaction=None)"
   ]
  },
  {
   "cell_type": "code",
   "execution_count": null,
   "metadata": {},
   "outputs": [],
   "source": [
    "\n",
    "\n",
    "###### DEEP LEARNING\n",
    "stacking.neuralNetworkCompiler(learningRate=0.0001, batch=64, epoch=2, cvNumber=2, displayStep=10000, evaluate=True, useGPU=True)\n",
    "\n",
    "\n",
    "#=========================================================================================================\n",
    "#================================ 4. PREDICTION\n",
    "\n",
    "# stacking.fit_tune(nCores, neuralNetworkCompiler=False, evaluate=False, interaction=None)\n",
    "# stacking.neuralNetwork(learningRate=0.0001, batch=64, epoch=2, cvNumber=2, displayStep=10000, evaluate=False, useGPU=True)\n",
    "# stacking.submit(nCores=-1, submissionNumber=2, week=109)\n"
   ]
  },
  {
   "cell_type": "code",
   "execution_count": null,
   "metadata": {},
   "outputs": [],
   "source": []
  }
 ],
 "metadata": {
  "kernelspec": {
   "display_name": "Python 3",
   "language": "python",
   "name": "python3"
  },
  "language_info": {
   "codemirror_mode": {
    "name": "ipython",
    "version": 3
   },
   "file_extension": ".py",
   "mimetype": "text/x-python",
   "name": "python",
   "nbconvert_exporter": "python",
   "pygments_lexer": "ipython3",
   "version": "3.6.3"
  }
 },
 "nbformat": 4,
 "nbformat_minor": 2
}
