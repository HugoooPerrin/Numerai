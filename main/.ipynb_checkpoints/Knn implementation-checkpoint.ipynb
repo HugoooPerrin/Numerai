{
 "cells": [
  {
   "cell_type": "code",
   "execution_count": 1,
   "metadata": {},
   "outputs": [
    {
     "name": "stdout",
     "output_type": "stream",
     "text": [
      "\n",
      "---------------------------------------------\n",
      ">> Loading data...done\n",
      "\n",
      "Xtrain1: (157445, 50) \n",
      "Ytrain1: (157445,) \n",
      "Xtrain2: (158232, 50) \n",
      "Ytrain2: (158232,) \n",
      "Xtest: (77936, 50) \n",
      "Ytest: (77936,) \n",
      "Xvalid: (46362, 50) \n",
      "Yvalid: (46362,) \n",
      "Submit data: (243288, 50)\n",
      "\n"
     ]
    }
   ],
   "source": [
    "#=========================================================================================================\n",
    "#================================ 0. MODULE\n",
    "\n",
    "\n",
    "# Class\n",
    "from numerai import Numerai\n",
    "\n",
    "# Architecture\n",
    "from architecture import models\n",
    "\n",
    "# Feature engineering\n",
    "from knnFeatureExtractor import compute_features, KnnFeatureExtractor\n",
    "\n",
    "#=========================================================================================================\n",
    "#================================ 1. CLASS\n",
    "\n",
    "\n",
    "stacking = Numerai(week=112, name='bernie')\n",
    "\n",
    "stacking.load_data(stageNumber=1, evaluate=True)"
   ]
  },
  {
   "cell_type": "code",
   "execution_count": 2,
   "metadata": {
    "collapsed": true
   },
   "outputs": [],
   "source": [
    "feature = KnnFeatureExtractor()"
   ]
  },
  {
   "cell_type": "code",
   "execution_count": 4,
   "metadata": {
    "collapsed": true
   },
   "outputs": [],
   "source": [
    "import numpy as np"
   ]
  },
  {
   "cell_type": "code",
   "execution_count": 42,
   "metadata": {},
   "outputs": [],
   "source": [
    "n_estimators=5000\n",
    "nList = np.arange(0, 110000, 1)\n",
    "np.random.shuffle(nList)\n",
    "nList = nList[0:n_estimators]"
   ]
  },
  {
   "cell_type": "code",
   "execution_count": 43,
   "metadata": {
    "collapsed": true
   },
   "outputs": [],
   "source": [
    "feature.fit(stacking.Xtrain[1].iloc[nList], stacking.Ytrain[1].iloc[nList])"
   ]
  },
  {
   "cell_type": "code",
   "execution_count": 44,
   "metadata": {},
   "outputs": [
    {
     "name": "stdout",
     "output_type": "stream",
     "text": [
      "CPU times: user 519 ms, sys: 81.2 ms, total: 600 ms\n",
      "Wall time: 1.26 s\n"
     ]
    }
   ],
   "source": [
    "%%time\n",
    "test = feature.extract_features(stacking.Xtrain['valid'].iloc[0:10], k=[10, 30], nCores=8)"
   ]
  },
  {
   "cell_type": "code",
   "execution_count": 46,
   "metadata": {},
   "outputs": [
    {
     "name": "stdout",
     "output_type": "stream",
     "text": [
      "23.835 hours"
     ]
    }
   ],
   "source": [
    "print((((157000+158000+77000+46000+243000))/10)*1.26/3600,end=' hours')"
   ]
  },
  {
   "cell_type": "code",
   "execution_count": null,
   "metadata": {
    "collapsed": true
   },
   "outputs": [],
   "source": []
  }
 ],
 "metadata": {
  "kernelspec": {
   "display_name": "Python 3",
   "language": "python",
   "name": "python3"
  },
  "language_info": {
   "codemirror_mode": {
    "name": "ipython",
    "version": 3
   },
   "file_extension": ".py",
   "mimetype": "text/x-python",
   "name": "python",
   "nbconvert_exporter": "python",
   "pygments_lexer": "ipython3",
   "version": "3.6.3"
  }
 },
 "nbformat": 4,
 "nbformat_minor": 2
}
