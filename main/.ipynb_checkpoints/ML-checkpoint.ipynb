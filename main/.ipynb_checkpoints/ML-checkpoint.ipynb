{
 "cells": [
  {
   "cell_type": "markdown",
   "metadata": {},
   "source": [
    "# Modules"
   ]
  },
  {
   "cell_type": "code",
   "execution_count": 1,
   "metadata": {},
   "outputs": [],
   "source": [
    "from numerai import Numerai"
   ]
  },
  {
   "cell_type": "markdown",
   "metadata": {},
   "source": [
    "# Data"
   ]
  },
  {
   "cell_type": "code",
   "execution_count": 6,
   "metadata": {},
   "outputs": [
    {
     "name": "stdout",
     "output_type": "stream",
     "text": [
      "(393613, 50) (393613,) (46362, 50) (46362,) (243281, 50)\n"
     ]
    }
   ],
   "source": [
    "Xtrain = pd.read_csv(\"../../../Datasets/Numerai/w109/numerai_training_data.csv\")\n",
    "FinalXtest = pd.read_csv(\"../../../Datasets/Numerai/w109/numerai_tournament_data.csv\")\n",
    "\n",
    "real_data = FinalXtest.copy(True)\n",
    "ids = FinalXtest['id']\n",
    "\n",
    "FinalXtest = FinalXtest[FinalXtest['data_type'] == 'validation']\n",
    "\n",
    "Ytrain = Xtrain['target']\n",
    "FinalYtest = FinalXtest['target']\n",
    "\n",
    "Xtrain.drop(['id', 'era', 'data_type', 'target'], inplace = True, axis = 1)\n",
    "FinalXtest.drop(['id', 'era', 'data_type', 'target'], inplace = True, axis = 1)\n",
    "real_data.drop(['id', 'era', 'data_type', 'target'], inplace = True, axis = 1)\n",
    "\n",
    "print(Xtrain.shape, Ytrain.shape, FinalXtest.shape, FinalYtest.shape, real_data.shape)"
   ]
  },
  {
   "cell_type": "markdown",
   "metadata": {},
   "source": [
    "# Feature engineering"
   ]
  },
  {
   "cell_type": "markdown",
   "metadata": {},
   "source": [
    "### Classic"
   ]
  },
  {
   "cell_type": "code",
   "execution_count": null,
   "metadata": {
    "collapsed": true
   },
   "outputs": [],
   "source": [
    "metafeature_train = pd.DataFrame()\n",
    "metafeature_FinalXtest = pd.DataFrame()\n",
    "metafeature_final = pd.DataFrame()\n",
    "\n",
    "# Variance\n",
    "metafeature_train['variance'] = Xtrain.std(axis = 1)\n",
    "metafeature_FinalXtest['variance'] = FinalXtest.std(axis = 1)\n",
    "metafeature_final['variance'] = real_data.std(axis = 1)\n",
    "\n",
    "# Moyenne\n",
    "metafeature_train['mean'] = Xtrain.mean(axis = 1)\n",
    "metafeature_FinalXtest['mean'] = FinalXtest.mean(axis = 1)\n",
    "metafeature_final['mean'] = real_data.mean(axis = 1)\n",
    "\n",
    "# Distance to mean individual\n",
    "mean_indiv = Xtrain.mean(axis = 0)\n",
    "\n",
    "metafeature_train['distance'] = Xtrain.apply(lambda row: euclidean(row, mean_indiv), axis = 1)\n",
    "metafeature_FinalXtest['distance'] = FinalXtest.apply(lambda row: euclidean(row, mean_indiv), axis = 1)\n",
    "metafeature_final['distance'] = real_data.apply(lambda row: euclidean(row, mean_indiv), axis = 1)"
   ]
  },
  {
   "cell_type": "markdown",
   "metadata": {},
   "source": [
    "### Mean encoding"
   ]
  },
  {
   "cell_type": "code",
   "execution_count": 7,
   "metadata": {
    "collapsed": true
   },
   "outputs": [],
   "source": [
    "# To come"
   ]
  },
  {
   "cell_type": "markdown",
   "metadata": {},
   "source": [
    "### Neural network autoencoder"
   ]
  },
  {
   "cell_type": "code",
   "execution_count": null,
   "metadata": {
    "collapsed": true
   },
   "outputs": [],
   "source": [
    "# To come"
   ]
  },
  {
   "cell_type": "markdown",
   "metadata": {},
   "source": [
    "# Model"
   ]
  },
  {
   "cell_type": "code",
   "execution_count": null,
   "metadata": {
    "collapsed": true
   },
   "outputs": [],
   "source": [
    "n_cores = -1"
   ]
  },
  {
   "cell_type": "markdown",
   "metadata": {},
   "source": [
    "### First stage"
   ]
  },
  {
   "cell_type": "code",
   "execution_count": null,
   "metadata": {
    "collapsed": true
   },
   "outputs": [],
   "source": [
    "first_stage_train = pd.DataFrame()\n",
    "first_stage_test = pd.DataFrame()\n",
    "first_stage_final = pd.DataFrame()"
   ]
  }
 ],
 "metadata": {
  "kernelspec": {
   "display_name": "Python 3",
   "language": "python",
   "name": "python3"
  },
  "language_info": {
   "codemirror_mode": {
    "name": "ipython",
    "version": 3
   },
   "file_extension": ".py",
   "mimetype": "text/x-python",
   "name": "python",
   "nbconvert_exporter": "python",
   "pygments_lexer": "ipython3",
   "version": "3.6.3"
  }
 },
 "nbformat": 4,
 "nbformat_minor": 2
}
